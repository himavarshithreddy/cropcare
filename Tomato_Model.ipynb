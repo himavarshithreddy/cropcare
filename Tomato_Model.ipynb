{
 "cells": [
  {
   "cell_type": "code",
   "execution_count": 12,
   "id": "4e2b31a8",
   "metadata": {},
   "outputs": [],
   "source": [
    "import os\n",
    "import tensorflow \n",
    "import random\n",
    "import numpy as np\n",
    "from tensorflow.keras.preprocessing.image import ImageDataGenerator\n",
    "from keras.models import Sequential\n",
    "from keras.layers import Conv2D, MaxPooling2D, Flatten, Dense, Dropout\n",
    "from keras.optimizers import Adam\n",
    "from tensorflow.keras.preprocessing import image\n",
    "from sklearn.model_selection import train_test_split\n",
    "from tensorflow.keras.losses import SparseCategoricalCrossentropy\n",
    "from tensorflow.keras.losses import SparseCategoricalCrossentropy\n",
    "from tensorflow.keras.metrics import SparseCategoricalAccuracy"
   ]
  },
  {
   "cell_type": "code",
   "execution_count": 13,
   "id": "ba982c06",
   "metadata": {},
   "outputs": [],
   "source": [
    "data_path = r\"C:\\Users\\ASUS\\OneDrive - SRM Institute of Science & Technology\\Pictures\\whatsapp\\Green Bot\\plant disease\""
   ]
  },
  {
   "cell_type": "code",
   "execution_count": 14,
   "id": "78331857",
   "metadata": {},
   "outputs": [
    {
     "name": "stdout",
     "output_type": "stream",
     "text": [
      "Found 5485 images belonging to 5 classes.\n",
      "Found 1369 images belonging to 5 classes.\n"
     ]
    }
   ],
   "source": [
    "datagen = ImageDataGenerator(\n",
    "    rescale=1./255,          # Normalize pixel values to be between 0 and 1\n",
    "    shear_range=0.2,         # Shear intensity (for data augmentation)\n",
    "    zoom_range=0.2,          # Zoom range (for data augmentation)\n",
    "    horizontal_flip=True,    # Randomly flip images horizontally (for data augmentation)\n",
    "    validation_split=0.2      # Split the data into training and validation sets\n",
    ")\n",
    "\n",
    "# Create training data generator\n",
    "train_generator = datagen.flow_from_directory(\n",
    "    data_path,\n",
    "    target_size=(128, 128),   # Set your desired image size\n",
    "    batch_size=32,\n",
    "    class_mode='categorical',  # Assuming you have categorical labels\n",
    "    subset='training'\n",
    ")\n",
    "\n",
    "# Create validation data generator\n",
    "validation_generator = datagen.flow_from_directory(\n",
    "    data_path,\n",
    "    target_size=(128, 128),\n",
    "    batch_size=32,\n",
    "    class_mode='categorical',\n",
    "    subset='validation'\n",
    ")"
   ]
  },
  {
   "cell_type": "code",
   "execution_count": 16,
   "id": "8d7f2a16",
   "metadata": {},
   "outputs": [],
   "source": [
    "from keras.models import Sequential\n",
    "from keras.layers import Conv2D, MaxPooling2D, Flatten, Dense\n",
    "\n",
    "model = Sequential()\n",
    "\n",
    "model.add(Conv2D(64, (3, 3), strides=(2, 2), input_shape=(128, 128, 3), activation='relu'))\n",
    "model.add(MaxPooling2D(pool_size=(2, 2)))\n",
    "\n",
    "model.add(Conv2D(64, (3, 3), strides=(2, 2), activation='relu'))\n",
    "model.add(MaxPooling2D(pool_size=(2, 2)))\n",
    "\n",
    "model.add(Conv2D(128, (3, 3), strides=(2, 2), activation='relu'))\n",
    "model.add(MaxPooling2D(pool_size=(2, 2)))\n",
    "\n",
    "model.add(Flatten())\n",
    "\n",
    "model.add(Dense(64, activation='relu'))  \n",
    "model.add(Dense(64, activation='relu'))\n",
    "\n",
    "# Change the number of units in the output layer to 6 (number of classes)\n",
    "model.add(Dense(5, activation='softmax'))\n",
    "\n",
    "model.compile(optimizer='adam', loss='categorical_crossentropy', metrics=['accuracy'])\n"
   ]
  },
  {
   "cell_type": "code",
   "execution_count": 17,
   "id": "2b22116f",
   "metadata": {},
   "outputs": [
    {
     "name": "stdout",
     "output_type": "stream",
     "text": [
      "Epoch 1/10\n",
      "171/171 [==============================] - 98s 570ms/step - loss: 1.3006 - accuracy: 0.4564 - val_loss: 0.8675 - val_accuracy: 0.6838\n",
      "Epoch 2/10\n",
      "171/171 [==============================] - 35s 203ms/step - loss: 0.7680 - accuracy: 0.7051 - val_loss: 0.6401 - val_accuracy: 0.7463\n",
      "Epoch 3/10\n",
      "171/171 [==============================] - 34s 197ms/step - loss: 0.5907 - accuracy: 0.7691 - val_loss: 0.5117 - val_accuracy: 0.7932\n",
      "Epoch 4/10\n",
      "171/171 [==============================] - 33s 191ms/step - loss: 0.4859 - accuracy: 0.8216 - val_loss: 0.4708 - val_accuracy: 0.8214\n",
      "Epoch 5/10\n",
      "171/171 [==============================] - 30s 176ms/step - loss: 0.4159 - accuracy: 0.8507 - val_loss: 0.5792 - val_accuracy: 0.7857\n",
      "Epoch 6/10\n",
      "171/171 [==============================] - 35s 208ms/step - loss: 0.3538 - accuracy: 0.8702 - val_loss: 0.3034 - val_accuracy: 0.8817\n",
      "Epoch 7/10\n",
      "171/171 [==============================] - 39s 227ms/step - loss: 0.3190 - accuracy: 0.8865 - val_loss: 0.2856 - val_accuracy: 0.8981\n",
      "Epoch 8/10\n",
      "171/171 [==============================] - 39s 227ms/step - loss: 0.3259 - accuracy: 0.8826 - val_loss: 0.3265 - val_accuracy: 0.8705\n",
      "Epoch 9/10\n",
      "171/171 [==============================] - 45s 265ms/step - loss: 0.3000 - accuracy: 0.8927 - val_loss: 0.2833 - val_accuracy: 0.8929\n",
      "Epoch 10/10\n",
      "171/171 [==============================] - 35s 205ms/step - loss: 0.2948 - accuracy: 0.8971 - val_loss: 0.3593 - val_accuracy: 0.8653\n"
     ]
    }
   ],
   "source": [
    "# Set batch size and train the model\n",
    "batch_size = 32\n",
    "\n",
    "# Assuming you have defined your data generators as 'train_generator' and 'validation_generator'\n",
    "\n",
    "history = model.fit(\n",
    "    train_generator,\n",
    "    steps_per_epoch=train_generator.samples // batch_size,\n",
    "    epochs=10,\n",
    "    validation_data=validation_generator,\n",
    "    validation_steps=validation_generator.samples // batch_size\n",
    ")\n",
    "\n",
    "# Optionally, you can save the trained model\n",
    "model.save('plant_disease_detection_model.h5')\n"
   ]
  },
  {
   "cell_type": "code",
   "execution_count": 18,
   "id": "134da4eb",
   "metadata": {},
   "outputs": [
    {
     "name": "stdout",
     "output_type": "stream",
     "text": [
      "1/1 [==============================] - 0s 202ms/step\n",
      "The detected disease is: Tomato_Septoria_leaf_spot\n"
     ]
    }
   ],
   "source": [
    "img_path = r\"C:\\Users\\ASUS\\Downloads\\tomato input 2.jpeg\"\n",
    "img = image.load_img(img_path, target_size=(128, 128))\n",
    "img_array = image.img_to_array(img)\n",
    "img_array = np.expand_dims(img_array, axis=0)\n",
    "img_array /= 255.0 \n",
    "\n",
    "prediction = model.predict(img_array)\n",
    "\n",
    "class_indices = train_generator.class_indices\n",
    "predicted_class = list(class_indices.keys())[np.argmax(prediction)]\n",
    "print(f'The detected disease is: {predicted_class}')"
   ]
  },
  {
   "cell_type": "code",
   "execution_count": 20,
   "id": "935403fc",
   "metadata": {},
   "outputs": [],
   "source": [
    "model.save(r'C:\\Users\\ASUS\\Coding Ninjas\\model\\tomato api.h5')"
   ]
  }
 ],
 "metadata": {
  "kernelspec": {
   "display_name": "Python 3 (ipykernel)",
   "language": "python",
   "name": "python3"
  },
  "language_info": {
   "codemirror_mode": {
    "name": "ipython",
    "version": 3
   },
   "file_extension": ".py",
   "mimetype": "text/x-python",
   "name": "python",
   "nbconvert_exporter": "python",
   "pygments_lexer": "ipython3",
   "version": "3.9.18"
  }
 },
 "nbformat": 4,
 "nbformat_minor": 5
}
