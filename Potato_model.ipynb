{
 "cells": [
  {
   "cell_type": "code",
   "execution_count": 1,
   "id": "2b10cc63",
   "metadata": {},
   "outputs": [],
   "source": [
    "import os\n",
    "import tensorflow \n",
    "import random\n",
    "import numpy as np\n",
    "from tensorflow.keras.preprocessing.image import ImageDataGenerator\n",
    "from keras.models import Sequential\n",
    "from keras.layers import Conv2D, MaxPooling2D, Flatten, Dense, Dropout\n",
    "from keras.optimizers import Adam\n",
    "from tensorflow.keras.preprocessing import image\n",
    "from sklearn.model_selection import train_test_split\n",
    "from tensorflow.keras.losses import SparseCategoricalCrossentropy\n",
    "from tensorflow.keras.losses import SparseCategoricalCrossentropy\n",
    "from tensorflow.keras.metrics import SparseCategoricalAccuracy"
   ]
  },
  {
   "cell_type": "code",
   "execution_count": 2,
   "id": "a9d307f9",
   "metadata": {},
   "outputs": [],
   "source": [
    "data_path = r\"C:\\Users\\ASUS\\OneDrive - SRM Institute of Science & Technology\\Pictures\\whatsapp\\Green Bot\\Potato Plant Disease\""
   ]
  },
  {
   "cell_type": "code",
   "execution_count": 3,
   "id": "a4644d46",
   "metadata": {},
   "outputs": [
    {
     "name": "stdout",
     "output_type": "stream",
     "text": [
      "Found 1722 images belonging to 3 classes.\n",
      "Found 430 images belonging to 3 classes.\n"
     ]
    }
   ],
   "source": [
    "datagen = ImageDataGenerator(\n",
    "    rescale=1./255,          # Normalize pixel values to be between 0 and 1\n",
    "    shear_range=0.2,         # Shear intensity (for data augmentation)\n",
    "    zoom_range=0.2,          # Zoom range (for data augmentation)\n",
    "    horizontal_flip=True,    # Randomly flip images horizontally (for data augmentation)\n",
    "    validation_split=0.2      # Split the data into training and validation sets\n",
    ")\n",
    "\n",
    "# Create training data generator\n",
    "train_generator = datagen.flow_from_directory(\n",
    "    data_path,\n",
    "    target_size=(128, 128),   # Set your desired image size\n",
    "    batch_size=32,\n",
    "    class_mode='categorical',  # Assuming you have categorical labels\n",
    "    subset='training'\n",
    ")\n",
    "\n",
    "# Create validation data generator\n",
    "validation_generator = datagen.flow_from_directory(\n",
    "    data_path,\n",
    "    target_size=(128, 128),\n",
    "    batch_size=32,\n",
    "    class_mode='categorical',\n",
    "    subset='validation'\n",
    ")"
   ]
  },
  {
   "cell_type": "code",
   "execution_count": 6,
   "id": "a03251c4",
   "metadata": {},
   "outputs": [],
   "source": [
    "from keras.models import Sequential\n",
    "from keras.layers import Conv2D, MaxPooling2D, Flatten, Dense\n",
    "\n",
    "model = Sequential()\n",
    "\n",
    "model.add(Conv2D(64, (3, 3), strides=(2, 2), input_shape=(128, 128, 3), activation='relu'))\n",
    "model.add(MaxPooling2D(pool_size=(2, 2)))\n",
    "\n",
    "model.add(Conv2D(64, (3, 3), strides=(2, 2), activation='relu'))\n",
    "model.add(MaxPooling2D(pool_size=(2, 2)))\n",
    "\n",
    "model.add(Conv2D(128, (3, 3), strides=(2, 2), activation='relu'))\n",
    "model.add(MaxPooling2D(pool_size=(2, 2)))\n",
    "\n",
    "model.add(Flatten())\n",
    "\n",
    "model.add(Dense(64, activation='relu'))  \n",
    "model.add(Dense(64, activation='relu'))\n",
    "\n",
    "# Change the number of units in the output layer to 6 (number of classes)\n",
    "model.add(Dense(3, activation='softmax'))\n",
    "\n",
    "model.compile(optimizer='adam', loss='categorical_crossentropy', metrics=['accuracy'])\n"
   ]
  },
  {
   "cell_type": "code",
   "execution_count": 9,
   "id": "11368e68",
   "metadata": {},
   "outputs": [
    {
     "name": "stdout",
     "output_type": "stream",
     "text": [
      "Epoch 1/10\n",
      "53/53 [==============================] - 10s 179ms/step - loss: 0.1049 - accuracy: 0.9604 - val_loss: 0.2772 - val_accuracy: 0.9038\n",
      "Epoch 2/10\n",
      "53/53 [==============================] - 10s 183ms/step - loss: 0.0689 - accuracy: 0.9769 - val_loss: 0.0733 - val_accuracy: 0.9760\n",
      "Epoch 3/10\n",
      "53/53 [==============================] - 11s 204ms/step - loss: 0.0874 - accuracy: 0.9615 - val_loss: 0.1155 - val_accuracy: 0.9567\n",
      "Epoch 4/10\n",
      "53/53 [==============================] - 11s 199ms/step - loss: 0.0660 - accuracy: 0.9781 - val_loss: 0.1085 - val_accuracy: 0.9615\n",
      "Epoch 5/10\n",
      "53/53 [==============================] - 11s 211ms/step - loss: 0.1022 - accuracy: 0.9639 - val_loss: 0.1243 - val_accuracy: 0.9591\n",
      "Epoch 6/10\n",
      "53/53 [==============================] - 11s 215ms/step - loss: 0.1180 - accuracy: 0.9556 - val_loss: 0.3854 - val_accuracy: 0.8798\n",
      "Epoch 7/10\n",
      "53/53 [==============================] - 11s 209ms/step - loss: 0.1349 - accuracy: 0.9562 - val_loss: 0.1000 - val_accuracy: 0.9615\n",
      "Epoch 8/10\n",
      "53/53 [==============================] - 11s 203ms/step - loss: 0.1000 - accuracy: 0.9651 - val_loss: 0.0817 - val_accuracy: 0.9736\n",
      "Epoch 9/10\n",
      "53/53 [==============================] - 11s 206ms/step - loss: 0.0707 - accuracy: 0.9746 - val_loss: 0.1076 - val_accuracy: 0.9567\n",
      "Epoch 10/10\n",
      "53/53 [==============================] - 11s 216ms/step - loss: 0.0567 - accuracy: 0.9817 - val_loss: 0.0951 - val_accuracy: 0.9663\n"
     ]
    }
   ],
   "source": [
    "# Set batch size and train the model\n",
    "batch_size = 32\n",
    "\n",
    "# Assuming you have defined your data generators as 'train_generator' and 'validation_generator'\n",
    "\n",
    "history = model.fit(\n",
    "    train_generator,\n",
    "    steps_per_epoch=train_generator.samples // batch_size,\n",
    "    epochs=10,\n",
    "    validation_data=validation_generator,\n",
    "    validation_steps=validation_generator.samples // batch_size\n",
    ")\n",
    "\n",
    "# Optionally, you can save the trained model\n",
    "model.save('plant_disease_detection_model.h5')\n"
   ]
  },
  {
   "cell_type": "code",
   "execution_count": 13,
   "id": "dfa966e7",
   "metadata": {},
   "outputs": [
    {
     "name": "stdout",
     "output_type": "stream",
     "text": [
      "1/1 [==============================] - 0s 18ms/step\n",
      "The detected disease is: Potato___Late_blight\n"
     ]
    }
   ],
   "source": [
    "img_path = r\"C:\\Users\\ASUS\\Downloads\\potato input 3.jpeg\"\n",
    "img = image.load_img(img_path, target_size=(128, 128))\n",
    "img_array = image.img_to_array(img)\n",
    "img_array = np.expand_dims(img_array, axis=0)\n",
    "img_array /= 255.0 \n",
    "\n",
    "prediction = model.predict(img_array)\n",
    "\n",
    "class_indices = train_generator.class_indices\n",
    "predicted_class = list(class_indices.keys())[np.argmax(prediction)]\n",
    "print(f'The detected disease is: {predicted_class}')"
   ]
  },
  {
   "cell_type": "code",
   "execution_count": 15,
   "id": "9961f6a5",
   "metadata": {},
   "outputs": [],
   "source": [
    "model.save(r'C:\\Users\\ASUS\\Coding Ninjas\\model\\potato api.h5')"
   ]
  }
 ],
 "metadata": {
  "kernelspec": {
   "display_name": "Python 3 (ipykernel)",
   "language": "python",
   "name": "python3"
  },
  "language_info": {
   "codemirror_mode": {
    "name": "ipython",
    "version": 3
   },
   "file_extension": ".py",
   "mimetype": "text/x-python",
   "name": "python",
   "nbconvert_exporter": "python",
   "pygments_lexer": "ipython3",
   "version": "3.9.18"
  }
 },
 "nbformat": 4,
 "nbformat_minor": 5
}
